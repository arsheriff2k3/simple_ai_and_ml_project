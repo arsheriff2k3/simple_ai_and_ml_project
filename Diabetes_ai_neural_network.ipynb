{
 "cells": [
  {
   "cell_type": "code",
   "execution_count": 1,
   "metadata": {},
   "outputs": [
    {
     "name": "stdout",
     "output_type": "stream",
     "text": [
      "3.9.7 (default, Sep 16 2021, 16:59:28) [MSC v.1916 64 bit (AMD64)]\n"
     ]
    }
   ],
   "source": [
    "import sys\n",
    "print(sys.version)"
   ]
  },
  {
   "cell_type": "code",
   "execution_count": 2,
   "metadata": {},
   "outputs": [
    {
     "name": "stdout",
     "output_type": "stream",
     "text": [
      "2.10.0\n"
     ]
    }
   ],
   "source": [
    "import tensorflow as tf\n",
    "print(tf.__version__)"
   ]
  },
  {
   "cell_type": "code",
   "execution_count": 3,
   "metadata": {},
   "outputs": [],
   "source": [
    "import numpy as np\n",
    "from numpy import loadtxt"
   ]
  },
  {
   "cell_type": "code",
   "execution_count": 4,
   "metadata": {},
   "outputs": [],
   "source": [
    "data=loadtxt('diabetesclean.csv',delimiter=',') #read the dataset"
   ]
  },
  {
   "cell_type": "code",
   "execution_count": 5,
   "metadata": {},
   "outputs": [
    {
     "data": {
      "text/plain": [
       "(768, 9)"
      ]
     },
     "execution_count": 5,
     "metadata": {},
     "output_type": "execute_result"
    }
   ],
   "source": [
    "data.shape"
   ]
  },
  {
   "cell_type": "code",
   "execution_count": 6,
   "metadata": {},
   "outputs": [],
   "source": [
    "x = data[:,0:8] #Data\n",
    "y = data[:,8] #Label"
   ]
  },
  {
   "cell_type": "code",
   "execution_count": 7,
   "metadata": {},
   "outputs": [],
   "source": [
    "from sklearn.model_selection import train_test_split"
   ]
  },
  {
   "cell_type": "code",
   "execution_count": 8,
   "metadata": {},
   "outputs": [],
   "source": [
    "xtrain, xtest, ytrain, ytest = train_test_split(x,y,test_size=0.2)"
   ]
  },
  {
   "cell_type": "code",
   "execution_count": 9,
   "metadata": {},
   "outputs": [],
   "source": [
    "from keras.models import Sequential\n",
    "from keras.layers import Dense"
   ]
  },
  {
   "cell_type": "code",
   "execution_count": 10,
   "metadata": {},
   "outputs": [],
   "source": [
    "model=Sequential()"
   ]
  },
  {
   "cell_type": "code",
   "execution_count": 11,
   "metadata": {},
   "outputs": [],
   "source": [
    "model.add(Dense(8,input_dim=8,activation='relu')) #INPUT N\n",
    "model.add(Dense(8,activation='relu'))#hidden layer\n",
    "model.add(Dense(1,activation='sigmoid'))  #softmax #output"
   ]
  },
  {
   "cell_type": "code",
   "execution_count": 12,
   "metadata": {},
   "outputs": [],
   "source": [
    "model.compile(loss='binary_crossentropy',optimizer='adam',metrics=['accuracy'])"
   ]
  },
  {
   "cell_type": "code",
   "execution_count": 13,
   "metadata": {
    "scrolled": false
   },
   "outputs": [
    {
     "name": "stdout",
     "output_type": "stream",
     "text": [
      "Epoch 1/150\n",
      "15/15 [==============================] - 2s 3ms/step - loss: 35.9094 - accuracy: 0.3583\n",
      "Epoch 2/150\n",
      "15/15 [==============================] - 0s 1ms/step - loss: 27.3654 - accuracy: 0.3583\n",
      "Epoch 3/150\n",
      "15/15 [==============================] - 0s 2ms/step - loss: 19.6034 - accuracy: 0.3583\n",
      "Epoch 4/150\n",
      "15/15 [==============================] - 0s 2ms/step - loss: 13.0322 - accuracy: 0.3583\n",
      "Epoch 5/150\n",
      "15/15 [==============================] - 0s 2ms/step - loss: 7.5371 - accuracy: 0.3599\n",
      "Epoch 6/150\n",
      "15/15 [==============================] - 0s 1ms/step - loss: 3.3336 - accuracy: 0.3827\n",
      "Epoch 7/150\n",
      "15/15 [==============================] - 0s 2ms/step - loss: 1.0843 - accuracy: 0.5586\n",
      "Epoch 8/150\n",
      "15/15 [==============================] - 0s 2ms/step - loss: 0.9702 - accuracy: 0.6140\n",
      "Epoch 9/150\n",
      "15/15 [==============================] - 0s 2ms/step - loss: 0.8708 - accuracy: 0.6173\n",
      "Epoch 10/150\n",
      "15/15 [==============================] - 0s 1ms/step - loss: 0.8479 - accuracy: 0.6059\n",
      "Epoch 11/150\n",
      "15/15 [==============================] - 0s 1ms/step - loss: 0.8245 - accuracy: 0.6254\n",
      "Epoch 12/150\n",
      "15/15 [==============================] - 0s 2ms/step - loss: 0.8041 - accuracy: 0.6189\n",
      "Epoch 13/150\n",
      "15/15 [==============================] - 0s 1ms/step - loss: 0.7948 - accuracy: 0.6156\n",
      "Epoch 14/150\n",
      "15/15 [==============================] - 0s 1ms/step - loss: 0.7823 - accuracy: 0.6221\n",
      "Epoch 15/150\n",
      "15/15 [==============================] - 0s 2ms/step - loss: 0.7741 - accuracy: 0.6221\n",
      "Epoch 16/150\n",
      "15/15 [==============================] - 0s 2ms/step - loss: 0.7651 - accuracy: 0.6140\n",
      "Epoch 17/150\n",
      "15/15 [==============================] - 0s 2ms/step - loss: 0.7536 - accuracy: 0.6254\n",
      "Epoch 18/150\n",
      "15/15 [==============================] - 0s 1ms/step - loss: 0.7502 - accuracy: 0.6205\n",
      "Epoch 19/150\n",
      "15/15 [==============================] - 0s 2ms/step - loss: 0.7337 - accuracy: 0.6287\n",
      "Epoch 20/150\n",
      "15/15 [==============================] - 0s 2ms/step - loss: 0.7320 - accuracy: 0.6221\n",
      "Epoch 21/150\n",
      "15/15 [==============================] - 0s 2ms/step - loss: 0.7272 - accuracy: 0.6270\n",
      "Epoch 22/150\n",
      "15/15 [==============================] - 0s 1ms/step - loss: 0.7195 - accuracy: 0.6336\n",
      "Epoch 23/150\n",
      "15/15 [==============================] - 0s 1ms/step - loss: 0.7180 - accuracy: 0.6205\n",
      "Epoch 24/150\n",
      "15/15 [==============================] - 0s 1ms/step - loss: 0.7136 - accuracy: 0.6336\n",
      "Epoch 25/150\n",
      "15/15 [==============================] - 0s 1ms/step - loss: 0.7038 - accuracy: 0.6368\n",
      "Epoch 26/150\n",
      "15/15 [==============================] - 0s 1ms/step - loss: 0.7012 - accuracy: 0.6336\n",
      "Epoch 27/150\n",
      "15/15 [==============================] - 0s 2ms/step - loss: 0.6976 - accuracy: 0.6401\n",
      "Epoch 28/150\n",
      "15/15 [==============================] - 0s 2ms/step - loss: 0.6945 - accuracy: 0.6336\n",
      "Epoch 29/150\n",
      "15/15 [==============================] - 0s 3ms/step - loss: 0.6900 - accuracy: 0.6531\n",
      "Epoch 30/150\n",
      "15/15 [==============================] - 0s 2ms/step - loss: 0.6906 - accuracy: 0.6417\n",
      "Epoch 31/150\n",
      "15/15 [==============================] - 0s 2ms/step - loss: 0.6854 - accuracy: 0.6433\n",
      "Epoch 32/150\n",
      "15/15 [==============================] - 0s 2ms/step - loss: 0.6845 - accuracy: 0.6303\n",
      "Epoch 33/150\n",
      "15/15 [==============================] - 0s 2ms/step - loss: 0.6776 - accuracy: 0.6482\n",
      "Epoch 34/150\n",
      "15/15 [==============================] - 0s 2ms/step - loss: 0.6739 - accuracy: 0.6417\n",
      "Epoch 35/150\n",
      "15/15 [==============================] - 0s 2ms/step - loss: 0.6721 - accuracy: 0.6482\n",
      "Epoch 36/150\n",
      "15/15 [==============================] - 0s 2ms/step - loss: 0.6681 - accuracy: 0.6515\n",
      "Epoch 37/150\n",
      "15/15 [==============================] - 0s 2ms/step - loss: 0.6686 - accuracy: 0.6401\n",
      "Epoch 38/150\n",
      "15/15 [==============================] - 0s 2ms/step - loss: 0.6677 - accuracy: 0.6482\n",
      "Epoch 39/150\n",
      "15/15 [==============================] - 0s 2ms/step - loss: 0.6697 - accuracy: 0.6352\n",
      "Epoch 40/150\n",
      "15/15 [==============================] - 0s 2ms/step - loss: 0.6717 - accuracy: 0.6515\n",
      "Epoch 41/150\n",
      "15/15 [==============================] - 0s 2ms/step - loss: 0.6604 - accuracy: 0.6401\n",
      "Epoch 42/150\n",
      "15/15 [==============================] - 0s 3ms/step - loss: 0.6546 - accuracy: 0.6564\n",
      "Epoch 43/150\n",
      "15/15 [==============================] - 0s 2ms/step - loss: 0.6541 - accuracy: 0.6596\n",
      "Epoch 44/150\n",
      "15/15 [==============================] - 0s 2ms/step - loss: 0.6510 - accuracy: 0.6515\n",
      "Epoch 45/150\n",
      "15/15 [==============================] - 0s 2ms/step - loss: 0.6556 - accuracy: 0.6694\n",
      "Epoch 46/150\n",
      "15/15 [==============================] - 0s 3ms/step - loss: 0.6564 - accuracy: 0.6384\n",
      "Epoch 47/150\n",
      "15/15 [==============================] - 0s 3ms/step - loss: 0.6451 - accuracy: 0.6547\n",
      "Epoch 48/150\n",
      "15/15 [==============================] - 0s 2ms/step - loss: 0.6458 - accuracy: 0.6547\n",
      "Epoch 49/150\n",
      "15/15 [==============================] - 0s 2ms/step - loss: 0.6454 - accuracy: 0.6482\n",
      "Epoch 50/150\n",
      "15/15 [==============================] - 0s 2ms/step - loss: 0.6446 - accuracy: 0.6710\n",
      "Epoch 51/150\n",
      "15/15 [==============================] - 0s 2ms/step - loss: 0.6377 - accuracy: 0.6596\n",
      "Epoch 52/150\n",
      "15/15 [==============================] - 0s 2ms/step - loss: 0.6386 - accuracy: 0.6661\n",
      "Epoch 53/150\n",
      "15/15 [==============================] - 0s 10ms/step - loss: 0.6367 - accuracy: 0.6580\n",
      "Epoch 54/150\n",
      "15/15 [==============================] - 0s 2ms/step - loss: 0.6370 - accuracy: 0.6596\n",
      "Epoch 55/150\n",
      "15/15 [==============================] - 0s 2ms/step - loss: 0.6345 - accuracy: 0.6645\n",
      "Epoch 56/150\n",
      "15/15 [==============================] - 0s 2ms/step - loss: 0.6374 - accuracy: 0.6775\n",
      "Epoch 57/150\n",
      "15/15 [==============================] - 0s 2ms/step - loss: 0.6311 - accuracy: 0.6596\n",
      "Epoch 58/150\n",
      "15/15 [==============================] - 0s 2ms/step - loss: 0.6330 - accuracy: 0.6743\n",
      "Epoch 59/150\n",
      "15/15 [==============================] - 0s 2ms/step - loss: 0.6311 - accuracy: 0.6629\n",
      "Epoch 60/150\n",
      "15/15 [==============================] - 0s 2ms/step - loss: 0.6292 - accuracy: 0.6743\n",
      "Epoch 61/150\n",
      "15/15 [==============================] - 0s 2ms/step - loss: 0.6272 - accuracy: 0.6824\n",
      "Epoch 62/150\n",
      "15/15 [==============================] - 0s 1ms/step - loss: 0.6278 - accuracy: 0.6743\n",
      "Epoch 63/150\n",
      "15/15 [==============================] - 0s 2ms/step - loss: 0.6266 - accuracy: 0.6792\n",
      "Epoch 64/150\n",
      "15/15 [==============================] - 0s 2ms/step - loss: 0.6259 - accuracy: 0.6743\n",
      "Epoch 65/150\n",
      "15/15 [==============================] - 0s 2ms/step - loss: 0.6244 - accuracy: 0.6743\n",
      "Epoch 66/150\n",
      "15/15 [==============================] - 0s 2ms/step - loss: 0.6248 - accuracy: 0.6743\n",
      "Epoch 67/150\n",
      "15/15 [==============================] - 0s 1ms/step - loss: 0.6245 - accuracy: 0.6710\n",
      "Epoch 68/150\n",
      "15/15 [==============================] - 0s 2ms/step - loss: 0.6243 - accuracy: 0.6808\n",
      "Epoch 69/150\n",
      "15/15 [==============================] - 0s 3ms/step - loss: 0.6272 - accuracy: 0.6743\n",
      "Epoch 70/150\n",
      "15/15 [==============================] - 0s 607us/step - loss: 0.6209 - accuracy: 0.6710\n",
      "Epoch 71/150\n",
      "15/15 [==============================] - 0s 1ms/step - loss: 0.6211 - accuracy: 0.6840\n",
      "Epoch 72/150\n",
      "15/15 [==============================] - 0s 1ms/step - loss: 0.6202 - accuracy: 0.6759\n",
      "Epoch 73/150\n",
      "15/15 [==============================] - 0s 2ms/step - loss: 0.6177 - accuracy: 0.6808\n",
      "Epoch 74/150\n",
      "15/15 [==============================] - 0s 2ms/step - loss: 0.6209 - accuracy: 0.6792\n",
      "Epoch 75/150\n",
      "15/15 [==============================] - 0s 1ms/step - loss: 0.6254 - accuracy: 0.6661\n",
      "Epoch 76/150\n",
      "15/15 [==============================] - 0s 1ms/step - loss: 0.6202 - accuracy: 0.6792\n",
      "Epoch 77/150\n",
      "15/15 [==============================] - 0s 1ms/step - loss: 0.6247 - accuracy: 0.6629\n",
      "Epoch 78/150\n",
      "15/15 [==============================] - 0s 2ms/step - loss: 0.6187 - accuracy: 0.6840\n",
      "Epoch 79/150\n",
      "15/15 [==============================] - 0s 2ms/step - loss: 0.6186 - accuracy: 0.6678\n",
      "Epoch 80/150\n",
      "15/15 [==============================] - 0s 929us/step - loss: 0.6244 - accuracy: 0.6661\n",
      "Epoch 81/150\n",
      "15/15 [==============================] - 0s 1ms/step - loss: 0.6157 - accuracy: 0.6906\n",
      "Epoch 82/150\n"
     ]
    },
    {
     "name": "stdout",
     "output_type": "stream",
     "text": [
      "15/15 [==============================] - 0s 1ms/step - loss: 0.6150 - accuracy: 0.6775\n",
      "Epoch 83/150\n",
      "15/15 [==============================] - 0s 2ms/step - loss: 0.6111 - accuracy: 0.6954\n",
      "Epoch 84/150\n",
      "15/15 [==============================] - 0s 1ms/step - loss: 0.6119 - accuracy: 0.6840\n",
      "Epoch 85/150\n",
      "15/15 [==============================] - 0s 1ms/step - loss: 0.6111 - accuracy: 0.6938\n",
      "Epoch 86/150\n",
      "15/15 [==============================] - 0s 2ms/step - loss: 0.6137 - accuracy: 0.6824\n",
      "Epoch 87/150\n",
      "15/15 [==============================] - 0s 1ms/step - loss: 0.6083 - accuracy: 0.6922\n",
      "Epoch 88/150\n",
      "15/15 [==============================] - 0s 1ms/step - loss: 0.6077 - accuracy: 0.6857\n",
      "Epoch 89/150\n",
      "15/15 [==============================] - 0s 1ms/step - loss: 0.6078 - accuracy: 0.6792\n",
      "Epoch 90/150\n",
      "15/15 [==============================] - 0s 1ms/step - loss: 0.6119 - accuracy: 0.6792\n",
      "Epoch 91/150\n",
      "15/15 [==============================] - 0s 2ms/step - loss: 0.6091 - accuracy: 0.6938\n",
      "Epoch 92/150\n",
      "15/15 [==============================] - 0s 2ms/step - loss: 0.6055 - accuracy: 0.6906\n",
      "Epoch 93/150\n",
      "15/15 [==============================] - 0s 2ms/step - loss: 0.6037 - accuracy: 0.6938\n",
      "Epoch 94/150\n",
      "15/15 [==============================] - 0s 1ms/step - loss: 0.6026 - accuracy: 0.6906\n",
      "Epoch 95/150\n",
      "15/15 [==============================] - 0s 1ms/step - loss: 0.6066 - accuracy: 0.6954\n",
      "Epoch 96/150\n",
      "15/15 [==============================] - 0s 2ms/step - loss: 0.6043 - accuracy: 0.6889\n",
      "Epoch 97/150\n",
      "15/15 [==============================] - 0s 2ms/step - loss: 0.6037 - accuracy: 0.7036\n",
      "Epoch 98/150\n",
      "15/15 [==============================] - 0s 1ms/step - loss: 0.6067 - accuracy: 0.6857\n",
      "Epoch 99/150\n",
      "15/15 [==============================] - 0s 1ms/step - loss: 0.6048 - accuracy: 0.6889\n",
      "Epoch 100/150\n",
      "15/15 [==============================] - 0s 2ms/step - loss: 0.6007 - accuracy: 0.6971\n",
      "Epoch 101/150\n",
      "15/15 [==============================] - 0s 1ms/step - loss: 0.6019 - accuracy: 0.6857\n",
      "Epoch 102/150\n",
      "15/15 [==============================] - 0s 2ms/step - loss: 0.5963 - accuracy: 0.7036\n",
      "Epoch 103/150\n",
      "15/15 [==============================] - 0s 1ms/step - loss: 0.5988 - accuracy: 0.7003\n",
      "Epoch 104/150\n",
      "15/15 [==============================] - 0s 1ms/step - loss: 0.5997 - accuracy: 0.6922\n",
      "Epoch 105/150\n",
      "15/15 [==============================] - 0s 2ms/step - loss: 0.5973 - accuracy: 0.6954\n",
      "Epoch 106/150\n",
      "15/15 [==============================] - 0s 2ms/step - loss: 0.6045 - accuracy: 0.6840\n",
      "Epoch 107/150\n",
      "15/15 [==============================] - 0s 2ms/step - loss: 0.5935 - accuracy: 0.7117\n",
      "Epoch 108/150\n",
      "15/15 [==============================] - 0s 2ms/step - loss: 0.5953 - accuracy: 0.7003\n",
      "Epoch 109/150\n",
      "15/15 [==============================] - 0s 2ms/step - loss: 0.5936 - accuracy: 0.7052\n",
      "Epoch 110/150\n",
      "15/15 [==============================] - 0s 1ms/step - loss: 0.5933 - accuracy: 0.7052\n",
      "Epoch 111/150\n",
      "15/15 [==============================] - 0s 2ms/step - loss: 0.5915 - accuracy: 0.7101\n",
      "Epoch 112/150\n",
      "15/15 [==============================] - 0s 2ms/step - loss: 0.5919 - accuracy: 0.7036\n",
      "Epoch 113/150\n",
      "15/15 [==============================] - 0s 1ms/step - loss: 0.5926 - accuracy: 0.7134\n",
      "Epoch 114/150\n",
      "15/15 [==============================] - 0s 1ms/step - loss: 0.5897 - accuracy: 0.7117\n",
      "Epoch 115/150\n",
      "15/15 [==============================] - 0s 2ms/step - loss: 0.5939 - accuracy: 0.7003\n",
      "Epoch 116/150\n",
      "15/15 [==============================] - 0s 1ms/step - loss: 0.5956 - accuracy: 0.6971\n",
      "Epoch 117/150\n",
      "15/15 [==============================] - 0s 1ms/step - loss: 0.5971 - accuracy: 0.6938\n",
      "Epoch 118/150\n",
      "15/15 [==============================] - 0s 1ms/step - loss: 0.5896 - accuracy: 0.7052\n",
      "Epoch 119/150\n",
      "15/15 [==============================] - 0s 2ms/step - loss: 0.5899 - accuracy: 0.7085\n",
      "Epoch 120/150\n",
      "15/15 [==============================] - 0s 2ms/step - loss: 0.5941 - accuracy: 0.6775\n",
      "Epoch 121/150\n",
      "15/15 [==============================] - 0s 1ms/step - loss: 0.5980 - accuracy: 0.7068\n",
      "Epoch 122/150\n",
      "15/15 [==============================] - 0s 1ms/step - loss: 0.5902 - accuracy: 0.7068\n",
      "Epoch 123/150\n",
      "15/15 [==============================] - 0s 2ms/step - loss: 0.5885 - accuracy: 0.7020\n",
      "Epoch 124/150\n",
      "15/15 [==============================] - 0s 2ms/step - loss: 0.5850 - accuracy: 0.7134\n",
      "Epoch 125/150\n",
      "15/15 [==============================] - 0s 1ms/step - loss: 0.5861 - accuracy: 0.7020\n",
      "Epoch 126/150\n",
      "15/15 [==============================] - 0s 1ms/step - loss: 0.5848 - accuracy: 0.7117\n",
      "Epoch 127/150\n",
      "15/15 [==============================] - 0s 2ms/step - loss: 0.5858 - accuracy: 0.7052\n",
      "Epoch 128/150\n",
      "15/15 [==============================] - 0s 1ms/step - loss: 0.5838 - accuracy: 0.7117\n",
      "Epoch 129/150\n",
      "15/15 [==============================] - 0s 2ms/step - loss: 0.5828 - accuracy: 0.7003\n",
      "Epoch 130/150\n",
      "15/15 [==============================] - 0s 2ms/step - loss: 0.5821 - accuracy: 0.7085\n",
      "Epoch 131/150\n",
      "15/15 [==============================] - 0s 1ms/step - loss: 0.5811 - accuracy: 0.7085\n",
      "Epoch 132/150\n",
      "15/15 [==============================] - 0s 1ms/step - loss: 0.5824 - accuracy: 0.7036\n",
      "Epoch 133/150\n",
      "15/15 [==============================] - 0s 1ms/step - loss: 0.5815 - accuracy: 0.7182\n",
      "Epoch 134/150\n",
      "15/15 [==============================] - 0s 2ms/step - loss: 0.5811 - accuracy: 0.7020\n",
      "Epoch 135/150\n",
      "15/15 [==============================] - 0s 1ms/step - loss: 0.5814 - accuracy: 0.7150\n",
      "Epoch 136/150\n",
      "15/15 [==============================] - 0s 1ms/step - loss: 0.5912 - accuracy: 0.6971\n",
      "Epoch 137/150\n",
      "15/15 [==============================] - 0s 3ms/step - loss: 0.5872 - accuracy: 0.7036\n",
      "Epoch 138/150\n",
      "15/15 [==============================] - 0s 3ms/step - loss: 0.5909 - accuracy: 0.7117\n",
      "Epoch 139/150\n",
      "15/15 [==============================] - 0s 2ms/step - loss: 0.5841 - accuracy: 0.7036\n",
      "Epoch 140/150\n",
      "15/15 [==============================] - 0s 858us/step - loss: 0.5840 - accuracy: 0.7117\n",
      "Epoch 141/150\n",
      "15/15 [==============================] - 0s 1ms/step - loss: 0.5749 - accuracy: 0.7182\n",
      "Epoch 142/150\n",
      "15/15 [==============================] - 0s 1ms/step - loss: 0.5795 - accuracy: 0.7085\n",
      "Epoch 143/150\n",
      "15/15 [==============================] - 0s 2ms/step - loss: 0.5817 - accuracy: 0.7166\n",
      "Epoch 144/150\n",
      "15/15 [==============================] - 0s 1ms/step - loss: 0.5792 - accuracy: 0.7166\n",
      "Epoch 145/150\n",
      "15/15 [==============================] - 0s 1ms/step - loss: 0.5749 - accuracy: 0.7182\n",
      "Epoch 146/150\n",
      "15/15 [==============================] - 0s 3ms/step - loss: 0.5834 - accuracy: 0.7003\n",
      "Epoch 147/150\n",
      "15/15 [==============================] - 0s 2ms/step - loss: 0.5764 - accuracy: 0.7150\n",
      "Epoch 148/150\n",
      "15/15 [==============================] - 0s 3ms/step - loss: 0.5758 - accuracy: 0.6971\n",
      "Epoch 149/150\n",
      "15/15 [==============================] - 0s 2ms/step - loss: 0.5751 - accuracy: 0.7248\n",
      "Epoch 150/150\n",
      "15/15 [==============================] - 0s 2ms/step - loss: 0.5743 - accuracy: 0.7264\n"
     ]
    },
    {
     "data": {
      "text/plain": [
       "<keras.callbacks.History at 0x20eba8c8280>"
      ]
     },
     "execution_count": 13,
     "metadata": {},
     "output_type": "execute_result"
    }
   ],
   "source": [
    "model.fit(xtrain,ytrain,epochs=150,batch_size=43)"
   ]
  },
  {
   "cell_type": "code",
   "execution_count": 14,
   "metadata": {},
   "outputs": [
    {
     "name": "stdout",
     "output_type": "stream",
     "text": [
      "5/5 [==============================] - 1s 4ms/step - loss: 0.6210 - accuracy: 0.7013\n",
      "Accuracy score for Test Data using nn : 0.701298713684082\n"
     ]
    }
   ],
   "source": [
    "_,acc=model.evaluate(xtest,ytest)\n",
    "print('Accuracy score for Test Data using nn :',acc)"
   ]
  },
  {
   "cell_type": "code",
   "execution_count": null,
   "metadata": {},
   "outputs": [],
   "source": []
  }
 ],
 "metadata": {
  "kernelspec": {
   "display_name": "Python 3 (ipykernel)",
   "language": "python",
   "name": "python3"
  },
  "language_info": {
   "codemirror_mode": {
    "name": "ipython",
    "version": 3
   },
   "file_extension": ".py",
   "mimetype": "text/x-python",
   "name": "python",
   "nbconvert_exporter": "python",
   "pygments_lexer": "ipython3",
   "version": "3.9.7"
  }
 },
 "nbformat": 4,
 "nbformat_minor": 4
}
